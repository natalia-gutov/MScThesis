{
 "cells": [
  {
   "cell_type": "code",
   "execution_count": 1,
   "metadata": {},
   "outputs": [],
   "source": [
    "import pandas as pd\n",
    "import numpy as np\n",
    "import matplotlib.pyplot as plt\n",
    "import seaborn as sns "
   ]
  },
  {
   "attachments": {},
   "cell_type": "markdown",
   "metadata": {},
   "source": [
    "REV VS NPV"
   ]
  },
  {
   "cell_type": "code",
   "execution_count": 8,
   "metadata": {},
   "outputs": [],
   "source": [
    "from REVENUES import dict_rev_100_lf1, dict_rev_100_lf2, dict_rev_100_lf3, dic_rev_100_tot\n",
    "from CAPEX_OPEX_calculations import opex_on_high, opex_on_low, opex_on_mod, opex_off_high, opex_off_low, opex_off_mod, capex_ns_wf_SP335HH100, capex_ns_wf_SP335HH150, capex_off_wf_SP335HH100,capex_off_wf_SP335HH150, capex_on_wf_SP277HH100, capex_on_wf_SP277HH150,capex_on_wf_SP199HH100, capex_on_wf_SP199HH150, capex_on_wf_SP335HH100,capex_on_wf_SP335HH150, capex_pv_try, capex_pv_low, capex_pv_high, capex_pv_mod\n",
    "\n",
    "# for a 25 year plant, we have the costs: NPC array and the NPV array (revenues)\n",
    "# CashFlows (rev) - NPC (capex and opex) = NPV\n",
    "cost_array= [capex_on_wf_SP199HH100, 0, opex_on_mod, ]\n",
    "rev_cash_flow= [dict_rev_100_lf1['1']]\n",
    "# no sirve porque es el total de 8 años. quiero cada año\n",
    "\n"
   ]
  }
 ],
 "metadata": {
  "kernelspec": {
   "display_name": "base",
   "language": "python",
   "name": "python3"
  },
  "language_info": {
   "codemirror_mode": {
    "name": "ipython",
    "version": 3
   },
   "file_extension": ".py",
   "mimetype": "text/x-python",
   "name": "python",
   "nbconvert_exporter": "python",
   "pygments_lexer": "ipython3",
   "version": "3.9.13"
  },
  "orig_nbformat": 4
 },
 "nbformat": 4,
 "nbformat_minor": 2
}
