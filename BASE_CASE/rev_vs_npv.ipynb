{
 "cells": [
  {
   "cell_type": "code",
   "execution_count": 9,
   "metadata": {},
   "outputs": [],
   "source": [
    "import pandas as pd\n",
    "import numpy as np\n",
    "import matplotlib.pyplot as plt\n",
    "import seaborn as sns "
   ]
  },
  {
   "attachments": {},
   "cell_type": "markdown",
   "metadata": {},
   "source": [
    "REV VS NPV"
   ]
  },
  {
   "cell_type": "code",
   "execution_count": 10,
   "metadata": {},
   "outputs": [],
   "source": [
    "# from REVENUES import dict_rev_100_lf1, dict_rev_100_lf2, dict_rev_100_lf3, dic_rev_100_tot, revenues_R1_2045, revenues_R1_2035, revenues_R1_2025\n",
    "from REVENUES import annual_rev_lf1, annual_rev_lf2, annual_rev_lf3\n",
    "from CAPEX_OPEX_calculations import opex_on_high, opex_on_low, opex_on_mod, opex_off_high, opex_off_low, opex_off_mod, capex_ns_wf_SP335HH100, capex_ns_wf_SP335HH150, capex_off_wf_SP335HH100,capex_off_wf_SP335HH150, capex_on_wf_SP277HH100, capex_on_wf_SP277HH150,capex_on_wf_SP199HH100, capex_on_wf_SP199HH150, capex_on_wf_SP335HH100,capex_on_wf_SP335HH150, capex_pv_try, capex_pv_low, capex_pv_high, capex_pv_mod\n",
    "\n",
    "# for a 25 year plant, we have the costs: NPC array and the NPV array (revenues)\n",
    "# CashFlows (rev) - NPC (capex and opex) = NPV\n",
    "# cost_array= [capex_on_wf_SP199HH100, 0, opex_on_mod, ]\n",
    "# rev_cash_flow= [dict_rev_100_lf1['1']]\n",
    "# cashflow= [rev_cash_flow- cost_array]\n",
    "# no sirve porque es el total de 8 años. quiero cada año\n",
    "# para hacer el NPV, necesito el cash flow de cada año. Para saber cuanto por ciento gano como inversion, hare NPV/CAPEX. \n",
    "\n",
    "# asique, vamos acalcular el NPV de cada año.\n",
    "# NPV= sum(cashflow)\n",
    "\n",
    "# PVC= [capex_on_wf_SP199HH100, 0, opex_on_mod, opex_on_mod*OM_r]"
   ]
  },
  {
   "cell_type": "code",
   "execution_count": 11,
   "metadata": {},
   "outputs": [
    {
     "name": "stdout",
     "output_type": "stream",
     "text": [
      "25 [4830472.82790001 4600450.31228572 4381381.24979593 4172744.04742469\n",
      " 3974041.94992828 3784801.85707455 2993617.33334121 2851064.12699163\n",
      " 2715299.16856345 2585999.20815567 2462856.38871968 4011733.53810999\n",
      " 4011733.53810999 4011733.53810999 4011733.53810999 4011733.53810999\n",
      " 4011733.53810999 3032158.012025   3032158.012025   3032158.012025\n",
      " 3032158.012025   3032158.012025   3032158.012025   3032158.012025\n",
      " 3032158.012025  ]\n",
      "27 [      0.               0.         4830472.82790001 4600450.31228572\n",
      " 4381381.24979593 4172744.04742469 3974041.94992828 3784801.85707455\n",
      " 2993617.33334121 2851064.12699163 2715299.16856345 2585999.20815567\n",
      " 2462856.38871968 4011733.53810999 4011733.53810999 4011733.53810999\n",
      " 4011733.53810999 4011733.53810999 4011733.53810999 3032158.012025\n",
      " 3032158.012025   3032158.012025   3032158.012025   3032158.012025\n",
      " 3032158.012025   3032158.012025   3032158.012025  ]\n",
      "87680393.79504074\n"
     ]
    }
   ],
   "source": [
    "# Cash Flows: LOC 1, R1.\n",
    "ann_cashf_lf1 = annual_rev_lf1['1']\n",
    "ann_cashf_lf2 = annual_rev_lf2['1']\n",
    "ann_cashf_lf3 = annual_rev_lf3['1']\n",
    "\n",
    "cashflows_lf_loc1 = np.concatenate((ann_cashf_lf1, ann_cashf_lf2, ann_cashf_lf3))\n",
    "\n",
    "print(len(cashflows_lf_loc1), cashflows_lf_loc1)\n",
    "\n",
    "st_const= [0, 0]\n",
    "cashflows_lf_loc1= np.concatenate((st_const, cashflows_lf_loc1))\n",
    "\n",
    "print(len(cashflows_lf_loc1), cashflows_lf_loc1)\n",
    "print(sum(cashflows_lf_loc1))"
   ]
  },
  {
   "cell_type": "code",
   "execution_count": 12,
   "metadata": {},
   "outputs": [
    {
     "name": "stdout",
     "output_type": "stream",
     "text": [
      "27 [107954545.45454545, 0, 1876386.0, 1913913.72, 1952191.9944, 1991235.834288, 2031060.55097376, 2071681.7619932352, 2113115.3972331, 2155377.705177762, 2198485.2592813172, 2242454.9644669434, 2287304.0637562824, 2333050.145031408, 2379711.1479320363, 2427305.370890677, 2475851.4783084905, 2525368.50787466, 2575875.8780321535, 2627393.3955927966, 2679941.263504653, 2733540.088774746, 2788210.890550241, 2843975.1083612456, 2900854.6105284705, 2958871.70273904, 3018049.1367938207]\n"
     ]
    }
   ],
   "source": [
    "#  COSTS: for every year, during lifetime of the plant\n",
    "OM_R = 0.02\n",
    "cost_array = [capex_on_wf_SP199HH100, 0, opex_on_mod]\n",
    "\n",
    "for i in range(2, 26):\n",
    "    opex_4 = cost_array[i] * (1+OM_R)\n",
    "    cost_array.append(opex_4)\n",
    "    \n",
    "print(len(cost_array), cost_array)"
   ]
  },
  {
   "cell_type": "code",
   "execution_count": 13,
   "metadata": {},
   "outputs": [
    {
     "name": "stdout",
     "output_type": "stream",
     "text": [
      "27 [-1.07954545e+08  0.00000000e+00  2.95408683e+06  2.68653659e+06\n",
      "  2.42918926e+06  2.18150821e+06  1.94298140e+06  1.71312010e+06\n",
      "  8.80501936e+05  6.95686422e+05  5.16813909e+05  3.43544244e+05\n",
      "  1.75552325e+05  1.67868339e+06  1.63202239e+06  1.58442817e+06\n",
      "  1.53588206e+06  1.48636503e+06  1.43585766e+06  4.04764616e+05\n",
      "  3.52216749e+05  2.98617923e+05  2.43947121e+05  1.88182904e+05\n",
      "  1.31303401e+05  7.32863093e+04  1.41088752e+04]\n",
      "[-215909090.9090909, -215909090.9090909, -214831390.08119088, -214058767.20890516, -213581769.94790924, -213391497.56906053, -213479576.72107977, -213838138.3879917, -215070751.84911668, -216530443.1324806, -218212114.48247978, -220111025.203258, -222222776.94205087, -222877143.6940037, -223624832.4517578, -224467709.65542915, -225407679.07393613, -226446682.55157545, -227586700.76952976, -229809329.54869035, -232137054.06367466, -234571976.22919914, -237116239.99827462, -239772032.2029721, -242541583.41200405, -245427168.80545714, -248431109.0670198]\n",
      "-94047122.61\n"
     ]
    }
   ],
   "source": [
    "# NPV: for every year, during lifetime of the plant\n",
    "presentcashflows_loc1= cashflows_lf_loc1-cost_array\n",
    "\n",
    "print(len(presentcashflows_loc1), presentcashflows_loc1)\n",
    "\n",
    "cash_flow_array = []\n",
    "cumulative_cash_flow = 0\n",
    "\n",
    "for i in range(len(cost_array)):\n",
    "    cash_flow = presentcashflows_loc1[i] - cost_array[i] + cumulative_cash_flow\n",
    "    cash_flow_array.append(cash_flow)\n",
    "    cumulative_cash_flow = cash_flow\n",
    "\n",
    "print(cash_flow_array)\n",
    "\n",
    "manualcheck= -1.07954545e+08+2.95408683e+06+2.68653659e+06+2.42918926e+06+2.18150821e+06+ 1.94298140e+06+1.71312010e+06\n",
    "print(manualcheck)"
   ]
  },
  {
   "cell_type": "code",
   "execution_count": 16,
   "metadata": {},
   "outputs": [
    {
     "name": "stderr",
     "output_type": "stream",
     "text": [
      "C:\\Users\\ngt13\\AppData\\Local\\Temp\\ipykernel_13232\\949490489.py:21: DtypeWarning: Columns (1,2,3,4,5,6,7,8,9,10,11,12,13,14,15,16,17) have mixed types. Specify dtype option on import or set low_memory=False.\n",
      "  df = pd.read_csv(file_path)\n"
     ]
    }
   ],
   "source": [
    "# get historical spot prices for realistic revenues??\n",
    "import os\n",
    "\n",
    "# List of countries and years\n",
    "countries = [\"Germany\", \"France\", \"Belgium\", \"Poland\", \"Finland\", \"Netherlands\", \"Denmark\"]\n",
    "years = range(2015, 2023)\n",
    "folder_path = \"historical_data\"\n",
    "\n",
    "# Create a dictionary to store the data frames\n",
    "data_frames = {}\n",
    "\n",
    "# Read CSV files\n",
    "for country in countries:\n",
    "    country_data_frames = []\n",
    "    \n",
    "    for year in years:\n",
    "        file_name = f\"energy-charts_Public_net_electricity_generation_in_{country}_in_{year}.csv\"\n",
    "        file_path = os.path.join(folder_path, file_name)\n",
    "        \n",
    "        if os.path.isfile(file_path):\n",
    "            df = pd.read_csv(file_path)\n",
    "            df = df.dropna(subset=[\"Date (UTC)\"])\n",
    "            # hourly frequency\n",
    "            df[\"Date (UTC)\"] = pd.to_datetime(df[\"Date (UTC)\"])\n",
    "            # df = df[df[\"Date (UTC)\"].dt.strftime(\"%Y-%m-%dT%H:%M:%S%z\").str.endswith(\"00:00\")]\n",
    "            # df = df[df[\"Date (UTC)\"].dt.strftime(\"%Y-%m-%dT%H:00+00:00\")]\n",
    "            country_data_frames.append(df)\n",
    "            # print(f\"File: {file_path}, Rows: {len(df)}\")\n",
    "    \n",
    "    if country_data_frames:\n",
    "        combined_df = pd.concat(country_data_frames)\n",
    "        combined_df = combined_df.loc[:, ~combined_df.columns.str.contains('^Unnamed')]\n",
    "        data_frames[f\"df_{country}\"] = combined_df\n",
    "        \n",
    "# filtering years 2016-2022 for all countries\n",
    "def filter_2015(df):\n",
    "    filter_condition = (df['Date (UTC)'].dt.year == 2015) & (df['Date (UTC)'] != '2015-12-31T23:00:00.000Z')\n",
    "    filtered_df = df[~filter_condition]\n",
    "    return filtered_df\n",
    "\n",
    "BE_df = filter_2015(data_frames[\"df_Belgium\"][2:])\n",
    "DE_df = filter_2015(data_frames[\"df_Germany\"][4:])\n",
    "DE_df = DE_df[DE_df['Date (UTC)'].dt.strftime(\"%M\") == \"00\"]\n",
    "DK2_df = filter_2015(data_frames[\"df_Denmark\"][2:])\n",
    "PL_df = filter_2015(data_frames[\"df_Poland\"][2:])\n",
    "FIN_df= filter_2015(data_frames['df_Finland'][2:])\n",
    "NL_df= filter_2015(data_frames['df_Netherlands'][2:])\n",
    "FR_df= filter_2015(data_frames['df_France'][2:])\n",
    "# -------------------\n",
    "start_year_indexes = [0, 8785, 17545, 26305, 35065, 43849, 52608]\n",
    "year_labels = [2016, 2017, 2018, 2019, 2020, 2021, 2022]\n",
    "\n",
    "# Data for SP for each country\n",
    "df_FR_histSP = FR_df['Day Ahead Auction (FR)'][0:8736] # to adapt it to the other values.\n",
    "df_FIN_histSP = FIN_df['Day Ahead Auction (FI)']\n",
    "df_BE_histSP = BE_df['Day Ahead Auction (BE)']\n",
    "df_NL_histSP = NL_df['Day Ahead Auction (NL)']\n",
    "df_DE_histSP = DE_df['Day Ahead Auction (DE-AT-LU)']\n",
    "df_DK2_histSP = DK2_df['Day Ahead Auction (DK2)']\n",
    "df_PL_histSP = PL_df['Day Ahead Auction (PL)']\n",
    "\n",
    "# AEPs 2012:\n",
    "from REVENUES import AEP_PVvalues, AEP_100values, AEP_150values\n",
    "# rev FR 2016=\n",
    "# re_FR_2016_100_futgen= AEP_PVvalues[7]*df_FR_histSP\n"
   ]
  }
 ],
 "metadata": {
  "kernelspec": {
   "display_name": "base",
   "language": "python",
   "name": "python3"
  },
  "language_info": {
   "codemirror_mode": {
    "name": "ipython",
    "version": 3
   },
   "file_extension": ".py",
   "mimetype": "text/x-python",
   "name": "python",
   "nbconvert_exporter": "python",
   "pygments_lexer": "ipython3",
   "version": "3.9.13"
  },
  "orig_nbformat": 4
 },
 "nbformat": 4,
 "nbformat_minor": 2
}
