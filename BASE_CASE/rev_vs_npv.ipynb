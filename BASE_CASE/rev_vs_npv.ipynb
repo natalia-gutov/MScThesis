{
 "cells": [
  {
   "cell_type": "code",
   "execution_count": 14,
   "metadata": {},
   "outputs": [],
   "source": [
    "import pandas as pd\n",
    "import numpy as np\n",
    "import matplotlib.pyplot as plt\n",
    "import seaborn as sns "
   ]
  },
  {
   "attachments": {},
   "cell_type": "markdown",
   "metadata": {},
   "source": [
    "REV VS NPV"
   ]
  },
  {
   "cell_type": "code",
   "execution_count": 16,
   "metadata": {},
   "outputs": [],
   "source": [
    "# from REVENUES import dict_rev_100_lf1, dict_rev_100_lf2, dict_rev_100_lf3, dic_rev_100_tot, revenues_R1_2045, revenues_R1_2035, revenues_R1_2025\n",
    "from REVENUES import annual_rev_lf1, annual_rev_lf2, annual_rev_lf3\n",
    "from CAPEX_OPEX_calculations import opex_on_high, opex_on_low, opex_on_mod, opex_off_high, opex_off_low, opex_off_mod, capex_ns_wf_SP335HH100, capex_ns_wf_SP335HH150, capex_off_wf_SP335HH100,capex_off_wf_SP335HH150, capex_on_wf_SP277HH100, capex_on_wf_SP277HH150,capex_on_wf_SP199HH100, capex_on_wf_SP199HH150, capex_on_wf_SP335HH100,capex_on_wf_SP335HH150, capex_pv_try, capex_pv_low, capex_pv_high, capex_pv_mod\n",
    "\n",
    "# for a 25 year plant, we have the costs: NPC array and the NPV array (revenues)\n",
    "# CashFlows (rev) - NPC (capex and opex) = NPV\n",
    "# cost_array= [capex_on_wf_SP199HH100, 0, opex_on_mod, ]\n",
    "# rev_cash_flow= [dict_rev_100_lf1['1']]\n",
    "# cashflow= [rev_cash_flow- cost_array]\n",
    "# no sirve porque es el total de 8 años. quiero cada año\n",
    "# para hacer el NPV, necesito el cash flow de cada año. Para saber cuanto por ciento gano como inversion, hare NPV/CAPEX. \n",
    "\n",
    "# asique, vamos acalcular el NPV de cada año.\n",
    "# NPV= sum(cashflow)\n",
    "\n",
    "# PVC= [capex_on_wf_SP199HH100, 0, opex_on_mod, opex_on_mod*OM_r]"
   ]
  },
  {
   "cell_type": "code",
   "execution_count": 17,
   "metadata": {},
   "outputs": [
    {
     "name": "stdout",
     "output_type": "stream",
     "text": [
      "25 [4830472.82790001 4600450.31228572 4381381.24979593 4172744.04742469\n",
      " 3974041.94992828 3784801.85707455 2993617.33334121 2851064.12699163\n",
      " 2715299.16856345 2585999.20815567 2462856.38871968 4011733.53810999\n",
      " 4011733.53810999 4011733.53810999 4011733.53810999 4011733.53810999\n",
      " 4011733.53810999 3032158.012025   3032158.012025   3032158.012025\n",
      " 3032158.012025   3032158.012025   3032158.012025   3032158.012025\n",
      " 3032158.012025  ]\n",
      "27 [      0.               0.         4830472.82790001 4600450.31228572\n",
      " 4381381.24979593 4172744.04742469 3974041.94992828 3784801.85707455\n",
      " 2993617.33334121 2851064.12699163 2715299.16856345 2585999.20815567\n",
      " 2462856.38871968 4011733.53810999 4011733.53810999 4011733.53810999\n",
      " 4011733.53810999 4011733.53810999 4011733.53810999 3032158.012025\n",
      " 3032158.012025   3032158.012025   3032158.012025   3032158.012025\n",
      " 3032158.012025   3032158.012025   3032158.012025  ]\n"
     ]
    }
   ],
   "source": [
    "# Cash Flows: LOC 1, R1.\n",
    "ann_cashf_lf1 = annual_rev_lf1['1']\n",
    "ann_cashf_lf2 = annual_rev_lf2['1']\n",
    "ann_cashf_lf3 = annual_rev_lf3['1']\n",
    "\n",
    "cashflows_lf_loc1 = np.concatenate((ann_cashf_lf1, ann_cashf_lf2, ann_cashf_lf3))\n",
    "\n",
    "print(len(cashflows_lf_loc1), cashflows_lf_loc1)\n",
    "\n",
    "st_const= [0, 0]\n",
    "cashflows_lf_loc1= np.concatenate((st_const, cashflows_lf_loc1))\n",
    "\n",
    "print(len(cashflows_lf_loc1), cashflows_lf_loc1)"
   ]
  },
  {
   "cell_type": "code",
   "execution_count": 18,
   "metadata": {},
   "outputs": [
    {
     "name": "stdout",
     "output_type": "stream",
     "text": [
      "27 [107954545.45454545, 0, 37527.72, 38278.2744, 39043.839888, 39824.71668576, 40621.2110194752, 41433.63523986471, 42262.307944662, 43107.554103555245, 43969.70518562635, 44849.099289338876, 45746.08127512565, 46661.00290062817, 47594.222958640734, 48546.107417813546, 49517.02956616982, 50507.37015749321, 51517.51756064308, 52547.86791185594, 53598.82527009306, 54670.801775494925, 55764.217811004826, 56879.50216722492, 58017.09221056942, 59177.43405478081, 60360.98273587643]\n"
     ]
    }
   ],
   "source": [
    "#  COSTS: for every year, during lifetime of the plant\n",
    "OM_R = 0.02\n",
    "cost_array = [capex_on_wf_SP199HH100, 0, opex_on_mod]\n",
    "\n",
    "for i in range(2, 26):\n",
    "    opex_4 = cost_array[i] * (1+OM_R)\n",
    "    cost_array.append(opex_4)\n",
    "    \n",
    "print(len(cost_array), cost_array)"
   ]
  },
  {
   "cell_type": "code",
   "execution_count": 9,
   "metadata": {},
   "outputs": [
    {
     "name": "stdout",
     "output_type": "stream",
     "text": [
      "27 [-1.07954545e+08  0.00000000e+00  4.79294511e+06  4.56217204e+06\n",
      "  4.34233741e+06  4.13291933e+06  3.93342074e+06  3.74336822e+06\n",
      "  2.95135503e+06  2.80795657e+06  2.67132946e+06  2.54115011e+06\n",
      "  2.41711031e+06  3.96507254e+06  3.96413932e+06  3.96318743e+06\n",
      "  3.96221651e+06  3.96122617e+06  3.96021602e+06  2.97961014e+06\n",
      "  2.97855919e+06  2.97748721e+06  2.97639379e+06  2.97527851e+06\n",
      "  2.97414092e+06  2.97298058e+06  2.97179703e+06]\n"
     ]
    }
   ],
   "source": [
    "# NPV: for every year, during lifetime of the plant\n",
    "presentcashflows_loc1= cashflows_lf_loc1-cost_array\n",
    "print(len(presentcashflows_loc1), presentcashflows_loc1)"
   ]
  }
 ],
 "metadata": {
  "kernelspec": {
   "display_name": "base",
   "language": "python",
   "name": "python3"
  },
  "language_info": {
   "codemirror_mode": {
    "name": "ipython",
    "version": 3
   },
   "file_extension": ".py",
   "mimetype": "text/x-python",
   "name": "python",
   "nbconvert_exporter": "python",
   "pygments_lexer": "ipython3",
   "version": "3.9.13"
  },
  "orig_nbformat": 4
 },
 "nbformat": 4,
 "nbformat_minor": 2
}
